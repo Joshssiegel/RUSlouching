{
 "cells": [
  {
   "cell_type": "code",
   "execution_count": 1,
   "metadata": {},
   "outputs": [
    {
     "ename": "SyntaxError",
     "evalue": "Missing parentheses in call to 'print'. Did you mean print(print \"running\")? (<ipython-input-1-d585e7ca50bd>, line 15)",
     "output_type": "error",
     "traceback": [
      "\u001b[1;36m  File \u001b[1;32m\"<ipython-input-1-d585e7ca50bd>\"\u001b[1;36m, line \u001b[1;32m15\u001b[0m\n\u001b[1;33m    print \"running\"\u001b[0m\n\u001b[1;37m                  ^\u001b[0m\n\u001b[1;31mSyntaxError\u001b[0m\u001b[1;31m:\u001b[0m Missing parentheses in call to 'print'. Did you mean print(print \"running\")?\n"
     ]
    }
   ],
   "source": [
    "import TestGUI as tg\n",
    "# import time\n",
    "#\n",
    "# time.sleep(3)\n",
    "# tg.slouching(1)\n",
    "# tg.slouching(0)\n",
    "from threading import Thread\n",
    "from time import sleep\n",
    "\n",
    "slouching = 0\n",
    "\n",
    "def threaded_function(arg):\n",
    "    tg.slouching()\n",
    "    for i in range(arg):\n",
    "        print (\"running\")\n",
    "        if(slouching):\n",
    "            print('slouching')\n",
    "            tg.IS_SLOUCHING = 1\n",
    "        sleep(1)\n",
    "\n",
    "\n",
    "if __name__ == \"__main__\":\n",
    "    thread = Thread(target = threaded_function, args = (10, ))\n",
    "    thread.start()\n",
    "    sleep(3)\n",
    "    slouching = 1\n",
    "    thread.join()\n",
    "    print (\"thread finished...exiting\")"
   ]
  },
  {
   "cell_type": "code",
   "execution_count": null,
   "metadata": {},
   "outputs": [],
   "source": []
  }
 ],
 "metadata": {
  "kernelspec": {
   "display_name": "Python 3",
   "language": "python",
   "name": "python3"
  },
  "language_info": {
   "codemirror_mode": {
    "name": "ipython",
    "version": 3
   },
   "file_extension": ".py",
   "mimetype": "text/x-python",
   "name": "python",
   "nbconvert_exporter": "python",
   "pygments_lexer": "ipython3",
   "version": "3.6.4"
  }
 },
 "nbformat": 4,
 "nbformat_minor": 2
}
